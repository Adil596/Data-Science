{
 "cells": [
  {
   "cell_type": "code",
   "execution_count": 35,
   "metadata": {},
   "outputs": [
    {
     "name": "stdout",
     "output_type": "stream",
     "text": [
      "ragavanedra\n",
      "\\ragavendra\n",
      "Gopalakrishnan\n",
      "Mopalakrishnan\n",
      "2\n",
      "op\n",
      "Gopal\n",
      "nanhsirkalapoG\n"
     ]
    }
   ],
   "source": [
    "print(\"ragavanedra\")\n",
    "print(r\"\\ragavendra\")\n",
    "a=\"Gopalakrishnan\"\n",
    "print(a)\n",
    "b=a.replace('G','M')\n",
    "print(b)\n",
    "c=a.find('p')\n",
    "print(c)\n",
    "print(a[1:3])\n",
    "print(a[0:3]+a[3:5])\n",
    "print(a[::-1])"
   ]
  },
  {
   "cell_type": "code",
   "execution_count": null,
   "metadata": {},
   "outputs": [],
   "source": []
  }
 ],
 "metadata": {
  "kernelspec": {
   "display_name": "Python 3",
   "language": "python",
   "name": "python3"
  },
  "language_info": {
   "codemirror_mode": {
    "name": "ipython",
    "version": 3
   },
   "file_extension": ".py",
   "mimetype": "text/x-python",
   "name": "python",
   "nbconvert_exporter": "python",
   "pygments_lexer": "ipython3",
   "version": "3.6.6"
  }
 },
 "nbformat": 4,
 "nbformat_minor": 2
}
